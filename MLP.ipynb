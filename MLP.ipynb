{
 "cells": [
  {
   "cell_type": "code",
   "execution_count": 37,
   "id": "56b8df51-f85d-4e60-a484-477feb38f324",
   "metadata": {},
   "outputs": [],
   "source": [
    "#%pip install tensorflow_datasets\n",
    "import tensorflow as tf\n",
    "import tensorflow_datasets as tfds\n",
    "import keras_tuner as kt"
   ]
  },
  {
   "cell_type": "code",
   "execution_count": 38,
   "id": "835ff1d3-f0cb-4337-b0e4-9f19e4837bd3",
   "metadata": {},
   "outputs": [],
   "source": [
    "def preprocess(text, label):\n",
    "    text = tf.strings.lower(text)\n",
    "    text = tf.strings.regex_replace(text, r\"<br\\s*/?>\", \" \")\n",
    "    return text, label"
   ]
  },
  {
   "cell_type": "code",
   "execution_count": 39,
   "id": "73b946e8-b1fe-499a-8925-f119ccbc2163",
   "metadata": {},
   "outputs": [],
   "source": [
    "def build_model(hp):\n",
    "    model = tf.keras.Sequential([\n",
    "        vectorize_layer,\n",
    "        tf.keras.layers.Dense(\n",
    "            units=hp.Int(\"units\", min_value=32, max_value=256, step=32),\n",
    "        ),\n",
    "        tf.keras.layers.BatchNormalization(),\n",
    "         tf.keras.layers.Activation(hp.Choice(\"activation\", [\"relu\"])), \n",
    "        \n",
    "        tf.keras.layers.Dense(\n",
    "            units=hp.Int(\"units\", min_value=32, max_value=256, step=25),\n",
    "        ),\n",
    "        tf.keras.layers.BatchNormalization(),\n",
    "         tf.keras.layers.Activation(hp.Choice(\"activation\", [\"relu\"])), \n",
    "        tf.keras.layers.Dense(1, activation=\"sigmoid\"),\n",
    "    ])\n",
    "    \n",
    "    model.compile(optimizer=tf.keras.optimizers.SGD( learning_rate=hp.Choice(\"learning_rate\", [1e-2, 1e-3, 1e-4]),\n",
    "            momentum=hp.Choice(\"momentum\", [0.9, 0.95, 0.99]), nesterov=True), loss=\"binary_crossentropy\", metrics=[\"accuracy\"])\n",
    "    \n",
    "    return model"
   ]
  },
  {
   "cell_type": "code",
   "execution_count": 40,
   "id": "a100a611-7f7a-476e-a536-0fbfae03face",
   "metadata": {},
   "outputs": [],
   "source": [
    "dataset, info = tfds.load(\"imdb_reviews\", with_info=True, as_supervised=True)\n",
    "\n",
    "train_dataset = dataset[\"train\"]\n",
    "test_dataset = dataset[\"test\"]"
   ]
  },
  {
   "cell_type": "code",
   "execution_count": 41,
   "id": "e988acb2-23a4-417f-a7bd-954b2551d3c7",
   "metadata": {},
   "outputs": [
    {
     "name": "stdout",
     "output_type": "stream",
     "text": [
      "FeaturesDict({\n",
      "    'label': ClassLabel(shape=(), dtype=int64, num_classes=2),\n",
      "    'text': Text(shape=(), dtype=string),\n",
      "})\n"
     ]
    }
   ],
   "source": [
    "print(info.features)"
   ]
  },
  {
   "cell_type": "code",
   "execution_count": 42,
   "id": "3b109676-b931-4070-b7b2-26116d3b3757",
   "metadata": {},
   "outputs": [
    {
     "name": "stdout",
     "output_type": "stream",
     "text": [
      "Large Movie Review Dataset. This is a dataset for binary sentiment\n",
      "classification containing substantially more data than previous benchmark\n",
      "datasets. We provide a set of 25,000 highly polar movie reviews for training,\n",
      "and 25,000 for testing. There is additional unlabeled data for use as well.\n"
     ]
    }
   ],
   "source": [
    "print(info.description)"
   ]
  },
  {
   "cell_type": "code",
   "execution_count": 43,
   "id": "8e530a3a-16c7-4bbd-8d21-b1544abd272c",
   "metadata": {},
   "outputs": [
    {
     "name": "stdout",
     "output_type": "stream",
     "text": [
      "tfds.core.DatasetInfo(\n",
      "    name='imdb_reviews',\n",
      "    full_name='imdb_reviews/plain_text/1.0.0',\n",
      "    description=\"\"\"\n",
      "    Large Movie Review Dataset. This is a dataset for binary sentiment\n",
      "    classification containing substantially more data than previous benchmark\n",
      "    datasets. We provide a set of 25,000 highly polar movie reviews for training,\n",
      "    and 25,000 for testing. There is additional unlabeled data for use as well.\n",
      "    \"\"\",\n",
      "    config_description=\"\"\"\n",
      "    Plain text\n",
      "    \"\"\",\n",
      "    homepage='http://ai.stanford.edu/~amaas/data/sentiment/',\n",
      "    data_dir='C:\\\\Users\\\\marce\\\\tensorflow_datasets\\\\imdb_reviews\\\\plain_text\\\\1.0.0',\n",
      "    file_format=tfrecord,\n",
      "    download_size=Unknown size,\n",
      "    dataset_size=129.83 MiB,\n",
      "    features=FeaturesDict({\n",
      "        'label': ClassLabel(shape=(), dtype=int64, num_classes=2),\n",
      "        'text': Text(shape=(), dtype=string),\n",
      "    }),\n",
      "    supervised_keys=('text', 'label'),\n",
      "    disable_shuffling=False,\n",
      "    splits={\n",
      "        'test': <SplitInfo num_examples=25000, num_shards=1>,\n",
      "        'train': <SplitInfo num_examples=25000, num_shards=1>,\n",
      "        'unsupervised': <SplitInfo num_examples=50000, num_shards=1>,\n",
      "    },\n",
      "    citation=\"\"\"@InProceedings{maas-EtAl:2011:ACL-HLT2011,\n",
      "      author    = {Maas, Andrew L.  and  Daly, Raymond E.  and  Pham, Peter T.  and  Huang, Dan  and  Ng, Andrew Y.  and  Potts, Christopher},\n",
      "      title     = {Learning Word Vectors for Sentiment Analysis},\n",
      "      booktitle = {Proceedings of the 49th Annual Meeting of the Association for Computational Linguistics: Human Language Technologies},\n",
      "      month     = {June},\n",
      "      year      = {2011},\n",
      "      address   = {Portland, Oregon, USA},\n",
      "      publisher = {Association for Computational Linguistics},\n",
      "      pages     = {142--150},\n",
      "      url       = {http://www.aclweb.org/anthology/P11-1015}\n",
      "    }\"\"\",\n",
      ")\n"
     ]
    }
   ],
   "source": [
    "print(info)"
   ]
  },
  {
   "cell_type": "code",
   "execution_count": 44,
   "id": "d76cdb94-1147-4159-8ede-1c7b5df548ea",
   "metadata": {},
   "outputs": [],
   "source": [
    "val_size = 15000\n",
    "test_size = 10000\n",
    "\n",
    "val_dataset = test_dataset.take(val_size)\n",
    "test_dataset = test_dataset.skip(val_size)\n"
   ]
  },
  {
   "cell_type": "code",
   "execution_count": 45,
   "id": "c89b3a78-92d3-47e5-9aeb-2df4c40bcd7b",
   "metadata": {},
   "outputs": [],
   "source": [
    "batch = 32\n",
    "train_dataset = (train_dataset.map(preprocess).shuffle(10000).batch(batch).prefetch(tf.data.AUTOTUNE))\n",
    "val_dataset = (val_dataset.map(preprocess).batch(batch).prefetch(tf.data.AUTOTUNE))\n",
    "test_dataset = (test_dataset.map(preprocess).batch(batch).prefetch(tf.data.AUTOTUNE))"
   ]
  },
  {
   "cell_type": "code",
   "execution_count": 46,
   "id": "ba0bbd4d-9027-4617-86e0-049eb477ae7f",
   "metadata": {},
   "outputs": [],
   "source": [
    "max_tokens = 10000\n",
    "vectorize_layer = tf.keras.layers.TextVectorization(max_tokens=max_tokens,output_mode=\"tf-idf\")\n",
    "vectorize_layer.adapt(train_dataset.map(lambda text, label: text))"
   ]
  },
  {
   "cell_type": "code",
   "execution_count": 47,
   "id": "a875d069-7a52-4509-a4e1-e7cef4a69fbb",
   "metadata": {},
   "outputs": [],
   "source": [
    "tuner = kt.BayesianOptimization( build_model, objective=\"val_accuracy\", max_trials=20, executions_per_trial=3, \n",
    "                                 directory=\"dir-\", project_name=\"imdb_reviews\")"
   ]
  },
  {
   "cell_type": "code",
   "execution_count": 48,
   "id": "c84d88d9-47fe-4488-96c0-60cf955e08d0",
   "metadata": {},
   "outputs": [
    {
     "name": "stdout",
     "output_type": "stream",
     "text": [
      "Trial 20 Complete [00h 14m 02s]\n",
      "val_accuracy: 0.8608888983726501\n",
      "\n",
      "Best val_accuracy So Far: 0.8665777842203776\n",
      "Total elapsed time: 05h 20m 48s\n"
     ]
    }
   ],
   "source": [
    "tuner.search(train_dataset, validation_data=val_dataset, epochs=10)"
   ]
  },
  {
   "cell_type": "code",
   "execution_count": 49,
   "id": "341e408a-a7e2-47d6-911d-6c38f39f3670",
   "metadata": {},
   "outputs": [
    {
     "name": "stdout",
     "output_type": "stream",
     "text": [
      "optimal number of units:256, \n",
      "optimal activation function:relu, \n",
      "optimal learning rate:0.0001.\n"
     ]
    }
   ],
   "source": [
    "best_hps = tuner.get_best_hyperparameters(num_trials=1)[0]\n",
    "\n",
    "print(f\"\"\"optimal number of units:{best_hps.get('units')}, \n",
    "optimal activation function:{best_hps.get('activation')}, \n",
    "optimal learning rate:{best_hps.get('learning_rate')}.\"\"\")"
   ]
  },
  {
   "cell_type": "code",
   "execution_count": 50,
   "id": "9eaeb21c-47b0-4f5c-934b-1f20198f6748",
   "metadata": {},
   "outputs": [
    {
     "name": "stdout",
     "output_type": "stream",
     "text": [
      "Epoch 1/100\n",
      "\u001b[1m782/782\u001b[0m \u001b[32m━━━━━━━━━━━━━━━━━━━━\u001b[0m\u001b[37m\u001b[0m \u001b[1m43s\u001b[0m 41ms/step - accuracy: 0.6053 - loss: 0.6631 - val_accuracy: 0.7553 - val_loss: 0.5238\n",
      "Epoch 2/100\n",
      "\u001b[1m782/782\u001b[0m \u001b[32m━━━━━━━━━━━━━━━━━━━━\u001b[0m\u001b[37m\u001b[0m \u001b[1m31s\u001b[0m 40ms/step - accuracy: 0.7910 - loss: 0.4543 - val_accuracy: 0.8019 - val_loss: 0.4450\n",
      "Epoch 3/100\n",
      "\u001b[1m782/782\u001b[0m \u001b[32m━━━━━━━━━━━━━━━━━━━━\u001b[0m\u001b[37m\u001b[0m \u001b[1m32s\u001b[0m 41ms/step - accuracy: 0.8473 - loss: 0.3567 - val_accuracy: 0.8390 - val_loss: 0.3694\n",
      "Epoch 4/100\n",
      "\u001b[1m782/782\u001b[0m \u001b[32m━━━━━━━━━━━━━━━━━━━━\u001b[0m\u001b[37m\u001b[0m \u001b[1m31s\u001b[0m 39ms/step - accuracy: 0.8760 - loss: 0.3023 - val_accuracy: 0.8427 - val_loss: 0.3577\n",
      "Epoch 5/100\n",
      "\u001b[1m782/782\u001b[0m \u001b[32m━━━━━━━━━━━━━━━━━━━━\u001b[0m\u001b[37m\u001b[0m \u001b[1m32s\u001b[0m 41ms/step - accuracy: 0.8865 - loss: 0.2719 - val_accuracy: 0.8491 - val_loss: 0.3464\n",
      "Epoch 6/100\n",
      "\u001b[1m782/782\u001b[0m \u001b[32m━━━━━━━━━━━━━━━━━━━━\u001b[0m\u001b[37m\u001b[0m \u001b[1m34s\u001b[0m 43ms/step - accuracy: 0.9041 - loss: 0.2377 - val_accuracy: 0.8525 - val_loss: 0.3550\n",
      "Epoch 7/100\n",
      "\u001b[1m782/782\u001b[0m \u001b[32m━━━━━━━━━━━━━━━━━━━━\u001b[0m\u001b[37m\u001b[0m \u001b[1m31s\u001b[0m 40ms/step - accuracy: 0.9130 - loss: 0.2223 - val_accuracy: 0.8519 - val_loss: 0.3460\n",
      "Epoch 8/100\n",
      "\u001b[1m782/782\u001b[0m \u001b[32m━━━━━━━━━━━━━━━━━━━━\u001b[0m\u001b[37m\u001b[0m \u001b[1m33s\u001b[0m 43ms/step - accuracy: 0.9217 - loss: 0.2023 - val_accuracy: 0.8417 - val_loss: 0.3643\n",
      "Epoch 9/100\n",
      "\u001b[1m782/782\u001b[0m \u001b[32m━━━━━━━━━━━━━━━━━━━━\u001b[0m\u001b[37m\u001b[0m \u001b[1m32s\u001b[0m 41ms/step - accuracy: 0.9313 - loss: 0.1808 - val_accuracy: 0.8573 - val_loss: 0.3382\n",
      "Epoch 10/100\n",
      "\u001b[1m782/782\u001b[0m \u001b[32m━━━━━━━━━━━━━━━━━━━━\u001b[0m\u001b[37m\u001b[0m \u001b[1m32s\u001b[0m 41ms/step - accuracy: 0.9327 - loss: 0.1746 - val_accuracy: 0.8677 - val_loss: 0.3169\n",
      "Epoch 11/100\n",
      "\u001b[1m782/782\u001b[0m \u001b[32m━━━━━━━━━━━━━━━━━━━━\u001b[0m\u001b[37m\u001b[0m \u001b[1m32s\u001b[0m 41ms/step - accuracy: 0.9388 - loss: 0.1606 - val_accuracy: 0.8423 - val_loss: 0.3731\n",
      "Epoch 12/100\n",
      "\u001b[1m782/782\u001b[0m \u001b[32m━━━━━━━━━━━━━━━━━━━━\u001b[0m\u001b[37m\u001b[0m \u001b[1m31s\u001b[0m 39ms/step - accuracy: 0.9446 - loss: 0.1463 - val_accuracy: 0.8623 - val_loss: 0.3357\n",
      "Epoch 13/100\n",
      "\u001b[1m782/782\u001b[0m \u001b[32m━━━━━━━━━━━━━━━━━━━━\u001b[0m\u001b[37m\u001b[0m \u001b[1m33s\u001b[0m 42ms/step - accuracy: 0.9488 - loss: 0.1389 - val_accuracy: 0.8538 - val_loss: 0.3487\n",
      "Epoch 14/100\n",
      "\u001b[1m782/782\u001b[0m \u001b[32m━━━━━━━━━━━━━━━━━━━━\u001b[0m\u001b[37m\u001b[0m \u001b[1m31s\u001b[0m 40ms/step - accuracy: 0.9537 - loss: 0.1257 - val_accuracy: 0.8665 - val_loss: 0.3304\n",
      "Epoch 15/100\n",
      "\u001b[1m782/782\u001b[0m \u001b[32m━━━━━━━━━━━━━━━━━━━━\u001b[0m\u001b[37m\u001b[0m \u001b[1m33s\u001b[0m 42ms/step - accuracy: 0.9554 - loss: 0.1233 - val_accuracy: 0.8569 - val_loss: 0.3427\n",
      "Epoch 16/100\n",
      "\u001b[1m782/782\u001b[0m \u001b[32m━━━━━━━━━━━━━━━━━━━━\u001b[0m\u001b[37m\u001b[0m \u001b[1m32s\u001b[0m 40ms/step - accuracy: 0.9530 - loss: 0.1265 - val_accuracy: 0.8583 - val_loss: 0.3495\n",
      "Epoch 17/100\n",
      "\u001b[1m782/782\u001b[0m \u001b[32m━━━━━━━━━━━━━━━━━━━━\u001b[0m\u001b[37m\u001b[0m \u001b[1m32s\u001b[0m 41ms/step - accuracy: 0.9589 - loss: 0.1141 - val_accuracy: 0.8544 - val_loss: 0.3487\n",
      "Epoch 18/100\n",
      "\u001b[1m782/782\u001b[0m \u001b[32m━━━━━━━━━━━━━━━━━━━━\u001b[0m\u001b[37m\u001b[0m \u001b[1m33s\u001b[0m 41ms/step - accuracy: 0.9612 - loss: 0.1100 - val_accuracy: 0.8431 - val_loss: 0.3821\n",
      "Epoch 19/100\n",
      "\u001b[1m782/782\u001b[0m \u001b[32m━━━━━━━━━━━━━━━━━━━━\u001b[0m\u001b[37m\u001b[0m \u001b[1m33s\u001b[0m 42ms/step - accuracy: 0.9579 - loss: 0.1136 - val_accuracy: 0.8431 - val_loss: 0.4028\n",
      "Epoch 20/100\n",
      "\u001b[1m782/782\u001b[0m \u001b[32m━━━━━━━━━━━━━━━━━━━━\u001b[0m\u001b[37m\u001b[0m \u001b[1m32s\u001b[0m 40ms/step - accuracy: 0.9649 - loss: 0.0970 - val_accuracy: 0.8525 - val_loss: 0.3822\n",
      "Epoch 21/100\n",
      "\u001b[1m782/782\u001b[0m \u001b[32m━━━━━━━━━━━━━━━━━━━━\u001b[0m\u001b[37m\u001b[0m \u001b[1m32s\u001b[0m 41ms/step - accuracy: 0.9687 - loss: 0.0921 - val_accuracy: 0.8511 - val_loss: 0.3902\n",
      "Epoch 22/100\n",
      "\u001b[1m782/782\u001b[0m \u001b[32m━━━━━━━━━━━━━━━━━━━━\u001b[0m\u001b[37m\u001b[0m \u001b[1m31s\u001b[0m 40ms/step - accuracy: 0.9683 - loss: 0.0915 - val_accuracy: 0.8603 - val_loss: 0.3730\n",
      "Epoch 23/100\n",
      "\u001b[1m782/782\u001b[0m \u001b[32m━━━━━━━━━━━━━━━━━━━━\u001b[0m\u001b[37m\u001b[0m \u001b[1m33s\u001b[0m 41ms/step - accuracy: 0.9725 - loss: 0.0802 - val_accuracy: 0.8530 - val_loss: 0.3984\n",
      "Epoch 24/100\n",
      "\u001b[1m782/782\u001b[0m \u001b[32m━━━━━━━━━━━━━━━━━━━━\u001b[0m\u001b[37m\u001b[0m \u001b[1m33s\u001b[0m 42ms/step - accuracy: 0.9730 - loss: 0.0797 - val_accuracy: 0.8559 - val_loss: 0.3838\n",
      "Epoch 25/100\n",
      "\u001b[1m782/782\u001b[0m \u001b[32m━━━━━━━━━━━━━━━━━━━━\u001b[0m\u001b[37m\u001b[0m \u001b[1m32s\u001b[0m 41ms/step - accuracy: 0.9727 - loss: 0.0765 - val_accuracy: 0.8505 - val_loss: 0.4389\n",
      "Epoch 26/100\n",
      "\u001b[1m782/782\u001b[0m \u001b[32m━━━━━━━━━━━━━━━━━━━━\u001b[0m\u001b[37m\u001b[0m \u001b[1m32s\u001b[0m 40ms/step - accuracy: 0.9762 - loss: 0.0666 - val_accuracy: 0.8491 - val_loss: 0.4196\n",
      "Epoch 27/100\n",
      "\u001b[1m782/782\u001b[0m \u001b[32m━━━━━━━━━━━━━━━━━━━━\u001b[0m\u001b[37m\u001b[0m \u001b[1m33s\u001b[0m 42ms/step - accuracy: 0.9730 - loss: 0.0782 - val_accuracy: 0.8523 - val_loss: 0.4309\n",
      "Epoch 28/100\n",
      "\u001b[1m782/782\u001b[0m \u001b[32m━━━━━━━━━━━━━━━━━━━━\u001b[0m\u001b[37m\u001b[0m \u001b[1m34s\u001b[0m 43ms/step - accuracy: 0.9767 - loss: 0.0689 - val_accuracy: 0.8473 - val_loss: 0.4321\n",
      "Epoch 29/100\n",
      "\u001b[1m782/782\u001b[0m \u001b[32m━━━━━━━━━━━━━━━━━━━━\u001b[0m\u001b[37m\u001b[0m \u001b[1m32s\u001b[0m 41ms/step - accuracy: 0.9792 - loss: 0.0608 - val_accuracy: 0.8219 - val_loss: 0.5525\n",
      "Epoch 30/100\n",
      "\u001b[1m782/782\u001b[0m \u001b[32m━━━━━━━━━━━━━━━━━━━━\u001b[0m\u001b[37m\u001b[0m \u001b[1m32s\u001b[0m 41ms/step - accuracy: 0.9775 - loss: 0.0663 - val_accuracy: 0.8567 - val_loss: 0.4190\n",
      "Epoch 31/100\n",
      "\u001b[1m782/782\u001b[0m \u001b[32m━━━━━━━━━━━━━━━━━━━━\u001b[0m\u001b[37m\u001b[0m \u001b[1m33s\u001b[0m 42ms/step - accuracy: 0.9785 - loss: 0.0616 - val_accuracy: 0.8455 - val_loss: 0.4573\n",
      "Epoch 32/100\n",
      "\u001b[1m782/782\u001b[0m \u001b[32m━━━━━━━━━━━━━━━━━━━━\u001b[0m\u001b[37m\u001b[0m \u001b[1m32s\u001b[0m 40ms/step - accuracy: 0.9709 - loss: 0.0776 - val_accuracy: 0.8470 - val_loss: 0.4658\n",
      "Epoch 33/100\n",
      "\u001b[1m782/782\u001b[0m \u001b[32m━━━━━━━━━━━━━━━━━━━━\u001b[0m\u001b[37m\u001b[0m \u001b[1m34s\u001b[0m 43ms/step - accuracy: 0.9808 - loss: 0.0585 - val_accuracy: 0.8539 - val_loss: 0.4234\n",
      "Epoch 34/100\n",
      "\u001b[1m782/782\u001b[0m \u001b[32m━━━━━━━━━━━━━━━━━━━━\u001b[0m\u001b[37m\u001b[0m \u001b[1m33s\u001b[0m 42ms/step - accuracy: 0.9849 - loss: 0.0467 - val_accuracy: 0.8536 - val_loss: 0.4311\n",
      "Epoch 35/100\n",
      "\u001b[1m782/782\u001b[0m \u001b[32m━━━━━━━━━━━━━━━━━━━━\u001b[0m\u001b[37m\u001b[0m \u001b[1m33s\u001b[0m 42ms/step - accuracy: 0.9706 - loss: 0.0788 - val_accuracy: 0.8551 - val_loss: 0.4365\n",
      "Epoch 36/100\n",
      "\u001b[1m782/782\u001b[0m \u001b[32m━━━━━━━━━━━━━━━━━━━━\u001b[0m\u001b[37m\u001b[0m \u001b[1m33s\u001b[0m 41ms/step - accuracy: 0.9834 - loss: 0.0517 - val_accuracy: 0.8441 - val_loss: 0.4469\n",
      "Epoch 37/100\n",
      "\u001b[1m782/782\u001b[0m \u001b[32m━━━━━━━━━━━━━━━━━━━━\u001b[0m\u001b[37m\u001b[0m \u001b[1m34s\u001b[0m 43ms/step - accuracy: 0.9780 - loss: 0.0624 - val_accuracy: 0.8549 - val_loss: 0.4309\n",
      "Epoch 38/100\n",
      "\u001b[1m782/782\u001b[0m \u001b[32m━━━━━━━━━━━━━━━━━━━━\u001b[0m\u001b[37m\u001b[0m \u001b[1m32s\u001b[0m 40ms/step - accuracy: 0.9797 - loss: 0.0570 - val_accuracy: 0.8471 - val_loss: 0.4838\n",
      "Epoch 39/100\n",
      "\u001b[1m782/782\u001b[0m \u001b[32m━━━━━━━━━━━━━━━━━━━━\u001b[0m\u001b[37m\u001b[0m \u001b[1m33s\u001b[0m 42ms/step - accuracy: 0.9737 - loss: 0.0736 - val_accuracy: 0.8521 - val_loss: 0.4625\n",
      "Epoch 40/100\n",
      "\u001b[1m782/782\u001b[0m \u001b[32m━━━━━━━━━━━━━━━━━━━━\u001b[0m\u001b[37m\u001b[0m \u001b[1m33s\u001b[0m 42ms/step - accuracy: 0.9780 - loss: 0.0682 - val_accuracy: 0.8546 - val_loss: 0.4390\n",
      "Epoch 41/100\n",
      "\u001b[1m782/782\u001b[0m \u001b[32m━━━━━━━━━━━━━━━━━━━━\u001b[0m\u001b[37m\u001b[0m \u001b[1m34s\u001b[0m 43ms/step - accuracy: 0.9779 - loss: 0.0654 - val_accuracy: 0.8567 - val_loss: 0.4552\n",
      "Epoch 42/100\n",
      "\u001b[1m782/782\u001b[0m \u001b[32m━━━━━━━━━━━━━━━━━━━━\u001b[0m\u001b[37m\u001b[0m \u001b[1m34s\u001b[0m 43ms/step - accuracy: 0.9784 - loss: 0.0597 - val_accuracy: 0.8318 - val_loss: 0.5758\n",
      "Epoch 43/100\n",
      "\u001b[1m782/782\u001b[0m \u001b[32m━━━━━━━━━━━━━━━━━━━━\u001b[0m\u001b[37m\u001b[0m \u001b[1m34s\u001b[0m 43ms/step - accuracy: 0.9801 - loss: 0.0572 - val_accuracy: 0.8447 - val_loss: 0.4890\n",
      "Epoch 44/100\n",
      "\u001b[1m782/782\u001b[0m \u001b[32m━━━━━━━━━━━━━━━━━━━━\u001b[0m\u001b[37m\u001b[0m \u001b[1m34s\u001b[0m 43ms/step - accuracy: 0.9841 - loss: 0.0513 - val_accuracy: 0.8221 - val_loss: 0.5827\n",
      "Epoch 45/100\n",
      "\u001b[1m782/782\u001b[0m \u001b[32m━━━━━━━━━━━━━━━━━━━━\u001b[0m\u001b[37m\u001b[0m \u001b[1m35s\u001b[0m 45ms/step - accuracy: 0.9816 - loss: 0.0546 - val_accuracy: 0.8427 - val_loss: 0.4706\n",
      "Epoch 46/100\n",
      "\u001b[1m782/782\u001b[0m \u001b[32m━━━━━━━━━━━━━━━━━━━━\u001b[0m\u001b[37m\u001b[0m \u001b[1m35s\u001b[0m 44ms/step - accuracy: 0.9762 - loss: 0.0641 - val_accuracy: 0.8349 - val_loss: 0.5346\n",
      "Epoch 47/100\n",
      "\u001b[1m782/782\u001b[0m \u001b[32m━━━━━━━━━━━━━━━━━━━━\u001b[0m\u001b[37m\u001b[0m \u001b[1m33s\u001b[0m 42ms/step - accuracy: 0.9800 - loss: 0.0572 - val_accuracy: 0.8533 - val_loss: 0.4340\n",
      "Epoch 48/100\n",
      "\u001b[1m782/782\u001b[0m \u001b[32m━━━━━━━━━━━━━━━━━━━━\u001b[0m\u001b[37m\u001b[0m \u001b[1m33s\u001b[0m 41ms/step - accuracy: 0.9756 - loss: 0.0683 - val_accuracy: 0.8550 - val_loss: 0.4332\n",
      "Epoch 49/100\n",
      "\u001b[1m782/782\u001b[0m \u001b[32m━━━━━━━━━━━━━━━━━━━━\u001b[0m\u001b[37m\u001b[0m \u001b[1m33s\u001b[0m 41ms/step - accuracy: 0.9786 - loss: 0.0615 - val_accuracy: 0.8548 - val_loss: 0.4652\n",
      "Epoch 50/100\n",
      "\u001b[1m782/782\u001b[0m \u001b[32m━━━━━━━━━━━━━━━━━━━━\u001b[0m\u001b[37m\u001b[0m \u001b[1m32s\u001b[0m 41ms/step - accuracy: 0.9845 - loss: 0.0479 - val_accuracy: 0.8409 - val_loss: 0.5497\n",
      "Epoch 51/100\n",
      "\u001b[1m782/782\u001b[0m \u001b[32m━━━━━━━━━━━━━━━━━━━━\u001b[0m\u001b[37m\u001b[0m \u001b[1m33s\u001b[0m 42ms/step - accuracy: 0.9772 - loss: 0.0645 - val_accuracy: 0.8451 - val_loss: 0.4719\n",
      "Epoch 52/100\n",
      "\u001b[1m782/782\u001b[0m \u001b[32m━━━━━━━━━━━━━━━━━━━━\u001b[0m\u001b[37m\u001b[0m \u001b[1m33s\u001b[0m 42ms/step - accuracy: 0.9781 - loss: 0.0617 - val_accuracy: 0.8384 - val_loss: 0.5595\n",
      "Epoch 53/100\n",
      "\u001b[1m782/782\u001b[0m \u001b[32m━━━━━━━━━━━━━━━━━━━━\u001b[0m\u001b[37m\u001b[0m \u001b[1m35s\u001b[0m 44ms/step - accuracy: 0.9830 - loss: 0.0492 - val_accuracy: 0.8322 - val_loss: 0.6326\n",
      "Epoch 54/100\n",
      "\u001b[1m782/782\u001b[0m \u001b[32m━━━━━━━━━━━━━━━━━━━━\u001b[0m\u001b[37m\u001b[0m \u001b[1m34s\u001b[0m 43ms/step - accuracy: 0.9822 - loss: 0.0480 - val_accuracy: 0.8415 - val_loss: 0.5317\n",
      "Epoch 55/100\n",
      "\u001b[1m782/782\u001b[0m \u001b[32m━━━━━━━━━━━━━━━━━━━━\u001b[0m\u001b[37m\u001b[0m \u001b[1m34s\u001b[0m 43ms/step - accuracy: 0.9856 - loss: 0.0414 - val_accuracy: 0.8463 - val_loss: 0.5370\n",
      "Epoch 56/100\n",
      "\u001b[1m782/782\u001b[0m \u001b[32m━━━━━━━━━━━━━━━━━━━━\u001b[0m\u001b[37m\u001b[0m \u001b[1m33s\u001b[0m 43ms/step - accuracy: 0.9865 - loss: 0.0403 - val_accuracy: 0.8363 - val_loss: 0.6101\n",
      "Epoch 57/100\n",
      "\u001b[1m782/782\u001b[0m \u001b[32m━━━━━━━━━━━━━━━━━━━━\u001b[0m\u001b[37m\u001b[0m \u001b[1m33s\u001b[0m 42ms/step - accuracy: 0.9840 - loss: 0.0459 - val_accuracy: 0.8216 - val_loss: 0.6026\n",
      "Epoch 58/100\n",
      "\u001b[1m782/782\u001b[0m \u001b[32m━━━━━━━━━━━━━━━━━━━━\u001b[0m\u001b[37m\u001b[0m \u001b[1m36s\u001b[0m 46ms/step - accuracy: 0.9835 - loss: 0.0482 - val_accuracy: 0.8307 - val_loss: 0.5454\n",
      "Epoch 59/100\n",
      "\u001b[1m782/782\u001b[0m \u001b[32m━━━━━━━━━━━━━━━━━━━━\u001b[0m\u001b[37m\u001b[0m \u001b[1m35s\u001b[0m 44ms/step - accuracy: 0.9881 - loss: 0.0354 - val_accuracy: 0.8394 - val_loss: 0.5479\n",
      "Epoch 60/100\n",
      "\u001b[1m782/782\u001b[0m \u001b[32m━━━━━━━━━━━━━━━━━━━━\u001b[0m\u001b[37m\u001b[0m \u001b[1m41s\u001b[0m 52ms/step - accuracy: 0.9840 - loss: 0.0441 - val_accuracy: 0.8437 - val_loss: 0.5655\n",
      "Epoch 61/100\n",
      "\u001b[1m782/782\u001b[0m \u001b[32m━━━━━━━━━━━━━━━━━━━━\u001b[0m\u001b[37m\u001b[0m \u001b[1m37s\u001b[0m 47ms/step - accuracy: 0.9861 - loss: 0.0412 - val_accuracy: 0.8425 - val_loss: 0.5321\n",
      "Epoch 62/100\n",
      "\u001b[1m782/782\u001b[0m \u001b[32m━━━━━━━━━━━━━━━━━━━━\u001b[0m\u001b[37m\u001b[0m \u001b[1m38s\u001b[0m 48ms/step - accuracy: 0.9876 - loss: 0.0349 - val_accuracy: 0.8286 - val_loss: 0.7661\n",
      "Epoch 63/100\n",
      "\u001b[1m782/782\u001b[0m \u001b[32m━━━━━━━━━━━━━━━━━━━━\u001b[0m\u001b[37m\u001b[0m \u001b[1m37s\u001b[0m 47ms/step - accuracy: 0.9869 - loss: 0.0389 - val_accuracy: 0.8337 - val_loss: 0.5694\n",
      "Epoch 64/100\n",
      "\u001b[1m782/782\u001b[0m \u001b[32m━━━━━━━━━━━━━━━━━━━━\u001b[0m\u001b[37m\u001b[0m \u001b[1m42s\u001b[0m 53ms/step - accuracy: 0.9837 - loss: 0.0460 - val_accuracy: 0.8239 - val_loss: 0.6988\n",
      "Epoch 65/100\n",
      "\u001b[1m782/782\u001b[0m \u001b[32m━━━━━━━━━━━━━━━━━━━━\u001b[0m\u001b[37m\u001b[0m \u001b[1m38s\u001b[0m 48ms/step - accuracy: 0.9835 - loss: 0.0475 - val_accuracy: 0.8411 - val_loss: 0.5817\n",
      "Epoch 66/100\n",
      "\u001b[1m782/782\u001b[0m \u001b[32m━━━━━━━━━━━━━━━━━━━━\u001b[0m\u001b[37m\u001b[0m \u001b[1m43s\u001b[0m 54ms/step - accuracy: 0.9888 - loss: 0.0330 - val_accuracy: 0.8521 - val_loss: 0.5235\n",
      "Epoch 67/100\n",
      "\u001b[1m782/782\u001b[0m \u001b[32m━━━━━━━━━━━━━━━━━━━━\u001b[0m\u001b[37m\u001b[0m \u001b[1m42s\u001b[0m 54ms/step - accuracy: 0.9854 - loss: 0.0415 - val_accuracy: 0.8511 - val_loss: 0.5047\n",
      "Epoch 68/100\n",
      "\u001b[1m782/782\u001b[0m \u001b[32m━━━━━━━━━━━━━━━━━━━━\u001b[0m\u001b[37m\u001b[0m \u001b[1m38s\u001b[0m 49ms/step - accuracy: 0.9876 - loss: 0.0354 - val_accuracy: 0.7994 - val_loss: 0.7738\n",
      "Epoch 69/100\n",
      "\u001b[1m782/782\u001b[0m \u001b[32m━━━━━━━━━━━━━━━━━━━━\u001b[0m\u001b[37m\u001b[0m \u001b[1m38s\u001b[0m 48ms/step - accuracy: 0.9845 - loss: 0.0442 - val_accuracy: 0.8423 - val_loss: 0.6189\n",
      "Epoch 70/100\n",
      "\u001b[1m782/782\u001b[0m \u001b[32m━━━━━━━━━━━━━━━━━━━━\u001b[0m\u001b[37m\u001b[0m \u001b[1m37s\u001b[0m 47ms/step - accuracy: 0.9882 - loss: 0.0366 - val_accuracy: 0.8309 - val_loss: 0.7310\n",
      "Epoch 71/100\n",
      "\u001b[1m782/782\u001b[0m \u001b[32m━━━━━━━━━━━━━━━━━━━━\u001b[0m\u001b[37m\u001b[0m \u001b[1m42s\u001b[0m 53ms/step - accuracy: 0.9901 - loss: 0.0309 - val_accuracy: 0.8463 - val_loss: 0.5598\n",
      "Epoch 72/100\n",
      "\u001b[1m782/782\u001b[0m \u001b[32m━━━━━━━━━━━━━━━━━━━━\u001b[0m\u001b[37m\u001b[0m \u001b[1m37s\u001b[0m 47ms/step - accuracy: 0.9899 - loss: 0.0297 - val_accuracy: 0.8501 - val_loss: 0.5267\n",
      "Epoch 73/100\n",
      "\u001b[1m782/782\u001b[0m \u001b[32m━━━━━━━━━━━━━━━━━━━━\u001b[0m\u001b[37m\u001b[0m \u001b[1m42s\u001b[0m 54ms/step - accuracy: 0.9921 - loss: 0.0255 - val_accuracy: 0.8439 - val_loss: 0.5797\n",
      "Epoch 74/100\n",
      "\u001b[1m782/782\u001b[0m \u001b[32m━━━━━━━━━━━━━━━━━━━━\u001b[0m\u001b[37m\u001b[0m \u001b[1m36s\u001b[0m 46ms/step - accuracy: 0.9924 - loss: 0.0250 - val_accuracy: 0.8461 - val_loss: 0.5356\n",
      "Epoch 75/100\n",
      "\u001b[1m782/782\u001b[0m \u001b[32m━━━━━━━━━━━━━━━━━━━━\u001b[0m\u001b[37m\u001b[0m \u001b[1m37s\u001b[0m 47ms/step - accuracy: 0.9890 - loss: 0.0306 - val_accuracy: 0.8457 - val_loss: 0.5441\n",
      "Epoch 76/100\n",
      "\u001b[1m782/782\u001b[0m \u001b[32m━━━━━━━━━━━━━━━━━━━━\u001b[0m\u001b[37m\u001b[0m \u001b[1m35s\u001b[0m 45ms/step - accuracy: 0.9894 - loss: 0.0286 - val_accuracy: 0.8491 - val_loss: 0.6337\n",
      "Epoch 77/100\n",
      "\u001b[1m782/782\u001b[0m \u001b[32m━━━━━━━━━━━━━━━━━━━━\u001b[0m\u001b[37m\u001b[0m \u001b[1m35s\u001b[0m 44ms/step - accuracy: 0.9882 - loss: 0.0348 - val_accuracy: 0.8413 - val_loss: 0.5175\n",
      "Epoch 78/100\n",
      "\u001b[1m782/782\u001b[0m \u001b[32m━━━━━━━━━━━━━━━━━━━━\u001b[0m\u001b[37m\u001b[0m \u001b[1m35s\u001b[0m 44ms/step - accuracy: 0.9873 - loss: 0.0333 - val_accuracy: 0.8461 - val_loss: 0.6434\n",
      "Epoch 79/100\n",
      "\u001b[1m782/782\u001b[0m \u001b[32m━━━━━━━━━━━━━━━━━━━━\u001b[0m\u001b[37m\u001b[0m \u001b[1m36s\u001b[0m 45ms/step - accuracy: 0.9896 - loss: 0.0311 - val_accuracy: 0.7977 - val_loss: 0.7672\n",
      "Epoch 80/100\n",
      "\u001b[1m782/782\u001b[0m \u001b[32m━━━━━━━━━━━━━━━━━━━━\u001b[0m\u001b[37m\u001b[0m \u001b[1m35s\u001b[0m 44ms/step - accuracy: 0.9871 - loss: 0.0372 - val_accuracy: 0.8499 - val_loss: 0.5250\n",
      "Epoch 81/100\n",
      "\u001b[1m782/782\u001b[0m \u001b[32m━━━━━━━━━━━━━━━━━━━━\u001b[0m\u001b[37m\u001b[0m \u001b[1m34s\u001b[0m 43ms/step - accuracy: 0.9889 - loss: 0.0313 - val_accuracy: 0.8276 - val_loss: 0.7124\n",
      "Epoch 82/100\n",
      "\u001b[1m782/782\u001b[0m \u001b[32m━━━━━━━━━━━━━━━━━━━━\u001b[0m\u001b[37m\u001b[0m \u001b[1m34s\u001b[0m 43ms/step - accuracy: 0.9901 - loss: 0.0298 - val_accuracy: 0.8181 - val_loss: 0.6955\n",
      "Epoch 83/100\n",
      "\u001b[1m782/782\u001b[0m \u001b[32m━━━━━━━━━━━━━━━━━━━━\u001b[0m\u001b[37m\u001b[0m \u001b[1m34s\u001b[0m 44ms/step - accuracy: 0.9878 - loss: 0.0354 - val_accuracy: 0.8431 - val_loss: 0.6452\n",
      "Epoch 84/100\n",
      "\u001b[1m782/782\u001b[0m \u001b[32m━━━━━━━━━━━━━━━━━━━━\u001b[0m\u001b[37m\u001b[0m \u001b[1m34s\u001b[0m 43ms/step - accuracy: 0.9887 - loss: 0.0340 - val_accuracy: 0.8323 - val_loss: 0.6314\n",
      "Epoch 85/100\n",
      "\u001b[1m782/782\u001b[0m \u001b[32m━━━━━━━━━━━━━━━━━━━━\u001b[0m\u001b[37m\u001b[0m \u001b[1m35s\u001b[0m 44ms/step - accuracy: 0.9833 - loss: 0.0488 - val_accuracy: 0.8469 - val_loss: 0.5814\n",
      "Epoch 86/100\n",
      "\u001b[1m782/782\u001b[0m \u001b[32m━━━━━━━━━━━━━━━━━━━━\u001b[0m\u001b[37m\u001b[0m \u001b[1m34s\u001b[0m 44ms/step - accuracy: 0.9915 - loss: 0.0285 - val_accuracy: 0.8297 - val_loss: 0.7108\n",
      "Epoch 87/100\n",
      "\u001b[1m782/782\u001b[0m \u001b[32m━━━━━━━━━━━━━━━━━━━━\u001b[0m\u001b[37m\u001b[0m \u001b[1m35s\u001b[0m 44ms/step - accuracy: 0.9884 - loss: 0.0326 - val_accuracy: 0.8510 - val_loss: 0.5406\n",
      "Epoch 88/100\n",
      "\u001b[1m782/782\u001b[0m \u001b[32m━━━━━━━━━━━━━━━━━━━━\u001b[0m\u001b[37m\u001b[0m \u001b[1m35s\u001b[0m 45ms/step - accuracy: 0.9790 - loss: 0.0549 - val_accuracy: 0.8495 - val_loss: 0.5199\n",
      "Epoch 89/100\n",
      "\u001b[1m782/782\u001b[0m \u001b[32m━━━━━━━━━━━━━━━━━━━━\u001b[0m\u001b[37m\u001b[0m \u001b[1m34s\u001b[0m 43ms/step - accuracy: 0.9883 - loss: 0.0314 - val_accuracy: 0.8463 - val_loss: 0.5832\n",
      "Epoch 90/100\n",
      "\u001b[1m782/782\u001b[0m \u001b[32m━━━━━━━━━━━━━━━━━━━━\u001b[0m\u001b[37m\u001b[0m \u001b[1m35s\u001b[0m 44ms/step - accuracy: 0.9881 - loss: 0.0335 - val_accuracy: 0.8455 - val_loss: 0.6073\n",
      "Epoch 91/100\n",
      "\u001b[1m782/782\u001b[0m \u001b[32m━━━━━━━━━━━━━━━━━━━━\u001b[0m\u001b[37m\u001b[0m \u001b[1m34s\u001b[0m 43ms/step - accuracy: 0.9896 - loss: 0.0279 - val_accuracy: 0.8011 - val_loss: 0.7875\n",
      "Epoch 92/100\n",
      "\u001b[1m782/782\u001b[0m \u001b[32m━━━━━━━━━━━━━━━━━━━━\u001b[0m\u001b[37m\u001b[0m \u001b[1m34s\u001b[0m 43ms/step - accuracy: 0.9822 - loss: 0.0474 - val_accuracy: 0.8472 - val_loss: 0.5930\n",
      "Epoch 93/100\n",
      "\u001b[1m782/782\u001b[0m \u001b[32m━━━━━━━━━━━━━━━━━━━━\u001b[0m\u001b[37m\u001b[0m \u001b[1m34s\u001b[0m 43ms/step - accuracy: 0.9899 - loss: 0.0276 - val_accuracy: 0.8409 - val_loss: 0.5807\n",
      "Epoch 94/100\n",
      "\u001b[1m782/782\u001b[0m \u001b[32m━━━━━━━━━━━━━━━━━━━━\u001b[0m\u001b[37m\u001b[0m \u001b[1m33s\u001b[0m 43ms/step - accuracy: 0.9910 - loss: 0.0260 - val_accuracy: 0.8511 - val_loss: 0.5508\n",
      "Epoch 95/100\n",
      "\u001b[1m782/782\u001b[0m \u001b[32m━━━━━━━━━━━━━━━━━━━━\u001b[0m\u001b[37m\u001b[0m \u001b[1m34s\u001b[0m 43ms/step - accuracy: 0.9902 - loss: 0.0296 - val_accuracy: 0.8477 - val_loss: 0.6170\n",
      "Epoch 96/100\n",
      "\u001b[1m782/782\u001b[0m \u001b[32m━━━━━━━━━━━━━━━━━━━━\u001b[0m\u001b[37m\u001b[0m \u001b[1m41s\u001b[0m 43ms/step - accuracy: 0.9895 - loss: 0.0314 - val_accuracy: 0.8451 - val_loss: 0.5263\n",
      "Epoch 97/100\n",
      "\u001b[1m782/782\u001b[0m \u001b[32m━━━━━━━━━━━━━━━━━━━━\u001b[0m\u001b[37m\u001b[0m \u001b[1m34s\u001b[0m 44ms/step - accuracy: 0.9832 - loss: 0.0450 - val_accuracy: 0.8393 - val_loss: 0.5426\n",
      "Epoch 98/100\n",
      "\u001b[1m782/782\u001b[0m \u001b[32m━━━━━━━━━━━━━━━━━━━━\u001b[0m\u001b[37m\u001b[0m \u001b[1m34s\u001b[0m 43ms/step - accuracy: 0.9888 - loss: 0.0339 - val_accuracy: 0.8309 - val_loss: 0.6516\n",
      "Epoch 99/100\n",
      "\u001b[1m782/782\u001b[0m \u001b[32m━━━━━━━━━━━━━━━━━━━━\u001b[0m\u001b[37m\u001b[0m \u001b[1m34s\u001b[0m 43ms/step - accuracy: 0.9894 - loss: 0.0316 - val_accuracy: 0.8471 - val_loss: 0.5594\n",
      "Epoch 100/100\n",
      "\u001b[1m782/782\u001b[0m \u001b[32m━━━━━━━━━━━━━━━━━━━━\u001b[0m\u001b[37m\u001b[0m \u001b[1m34s\u001b[0m 44ms/step - accuracy: 0.9811 - loss: 0.0481 - val_accuracy: 0.8449 - val_loss: 0.5821\n"
     ]
    }
   ],
   "source": [
    "best_model = tuner.hypermodel.build(best_hps)\n",
    "history = best_model.fit(train_dataset, validation_data=val_dataset, epochs=100)"
   ]
  },
  {
   "cell_type": "code",
   "execution_count": 51,
   "id": "752fd3e2-4c09-430d-8769-943f6ec5d528",
   "metadata": {},
   "outputs": [
    {
     "name": "stdout",
     "output_type": "stream",
     "text": [
      "\u001b[1m313/313\u001b[0m \u001b[32m━━━━━━━━━━━━━━━━━━━━\u001b[0m\u001b[37m\u001b[0m \u001b[1m7s\u001b[0m 14ms/step - accuracy: 0.8429 - loss: 0.5797\n",
      "Test Loss: 0.5817373991012573\n",
      "Test Accuracy: 0.8416000008583069\n"
     ]
    }
   ],
   "source": [
    "test_loss, test_accuracy = best_model.evaluate(test_dataset)\n",
    "print(f\"Test Loss: {test_loss}\")\n",
    "print(f\"Test Accuracy: {test_accuracy}\")"
   ]
  }
 ],
 "metadata": {
  "kernelspec": {
   "display_name": "Python 3 (ipykernel)",
   "language": "python",
   "name": "python3"
  },
  "language_info": {
   "codemirror_mode": {
    "name": "ipython",
    "version": 3
   },
   "file_extension": ".py",
   "mimetype": "text/x-python",
   "name": "python",
   "nbconvert_exporter": "python",
   "pygments_lexer": "ipython3",
   "version": "3.11.7"
  }
 },
 "nbformat": 4,
 "nbformat_minor": 5
}
